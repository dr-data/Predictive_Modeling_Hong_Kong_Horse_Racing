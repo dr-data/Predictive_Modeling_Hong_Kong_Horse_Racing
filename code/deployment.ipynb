{
 "cells": [
  {
   "cell_type": "code",
   "execution_count": 11,
   "metadata": {
    "slideshow": {
     "slide_type": "skip"
    }
   },
   "outputs": [],
   "source": [
    "import numpy as np\n",
    "import pandas as pd\n",
    "import matplotlib.pyplot as plt\n",
    "import joblib\n",
    "from sklearn.metrics import classification_report, confusion_matrix"
   ]
  },
  {
   "cell_type": "markdown",
   "metadata": {
    "slideshow": {
     "slide_type": "subslide"
    }
   },
   "source": [
    "## Testing data"
   ]
  },
  {
   "cell_type": "code",
   "execution_count": 2,
   "metadata": {
    "slideshow": {
     "slide_type": "fragment"
    }
   },
   "outputs": [
    {
     "data": {
      "text/html": [
       "<div>\n",
       "<style scoped>\n",
       "    .dataframe tbody tr th:only-of-type {\n",
       "        vertical-align: middle;\n",
       "    }\n",
       "\n",
       "    .dataframe tbody tr th {\n",
       "        vertical-align: top;\n",
       "    }\n",
       "\n",
       "    .dataframe thead th {\n",
       "        text-align: right;\n",
       "    }\n",
       "</style>\n",
       "<table border=\"1\" class=\"dataframe\">\n",
       "  <thead>\n",
       "    <tr style=\"text-align: right;\">\n",
       "      <th></th>\n",
       "      <th>race_id</th>\n",
       "      <th>won</th>\n",
       "      <th>horse_age</th>\n",
       "      <th>horse_rating</th>\n",
       "      <th>horse_gear</th>\n",
       "      <th>declared_weight</th>\n",
       "      <th>actual_weight</th>\n",
       "      <th>draw</th>\n",
       "      <th>win_odds</th>\n",
       "      <th>place_odds</th>\n",
       "      <th>...</th>\n",
       "      <th>config_C+3</th>\n",
       "      <th>going_GOOD</th>\n",
       "      <th>going_GOOD TO FIRM</th>\n",
       "      <th>going_GOOD TO YIELDING</th>\n",
       "      <th>going_SLOW</th>\n",
       "      <th>going_SOFT</th>\n",
       "      <th>going_WET FAST</th>\n",
       "      <th>going_WET SLOW</th>\n",
       "      <th>going_YIELDING</th>\n",
       "      <th>going_YIELDING TO SOFT</th>\n",
       "    </tr>\n",
       "  </thead>\n",
       "  <tbody>\n",
       "    <tr>\n",
       "      <th>0</th>\n",
       "      <td>6128</td>\n",
       "      <td>0.0</td>\n",
       "      <td>6</td>\n",
       "      <td>80</td>\n",
       "      <td>1</td>\n",
       "      <td>1078.0</td>\n",
       "      <td>133</td>\n",
       "      <td>11</td>\n",
       "      <td>99.0</td>\n",
       "      <td>19.0</td>\n",
       "      <td>...</td>\n",
       "      <td>1</td>\n",
       "      <td>0</td>\n",
       "      <td>1</td>\n",
       "      <td>0</td>\n",
       "      <td>0</td>\n",
       "      <td>0</td>\n",
       "      <td>0</td>\n",
       "      <td>0</td>\n",
       "      <td>0</td>\n",
       "      <td>0</td>\n",
       "    </tr>\n",
       "    <tr>\n",
       "      <th>1</th>\n",
       "      <td>6128</td>\n",
       "      <td>0.0</td>\n",
       "      <td>4</td>\n",
       "      <td>77</td>\n",
       "      <td>1</td>\n",
       "      <td>1110.0</td>\n",
       "      <td>130</td>\n",
       "      <td>8</td>\n",
       "      <td>13.0</td>\n",
       "      <td>2.9</td>\n",
       "      <td>...</td>\n",
       "      <td>1</td>\n",
       "      <td>0</td>\n",
       "      <td>1</td>\n",
       "      <td>0</td>\n",
       "      <td>0</td>\n",
       "      <td>0</td>\n",
       "      <td>0</td>\n",
       "      <td>0</td>\n",
       "      <td>0</td>\n",
       "      <td>0</td>\n",
       "    </tr>\n",
       "    <tr>\n",
       "      <th>2</th>\n",
       "      <td>6128</td>\n",
       "      <td>0.0</td>\n",
       "      <td>4</td>\n",
       "      <td>74</td>\n",
       "      <td>0</td>\n",
       "      <td>980.0</td>\n",
       "      <td>127</td>\n",
       "      <td>5</td>\n",
       "      <td>7.9</td>\n",
       "      <td>2.0</td>\n",
       "      <td>...</td>\n",
       "      <td>1</td>\n",
       "      <td>0</td>\n",
       "      <td>1</td>\n",
       "      <td>0</td>\n",
       "      <td>0</td>\n",
       "      <td>0</td>\n",
       "      <td>0</td>\n",
       "      <td>0</td>\n",
       "      <td>0</td>\n",
       "      <td>0</td>\n",
       "    </tr>\n",
       "    <tr>\n",
       "      <th>3</th>\n",
       "      <td>6128</td>\n",
       "      <td>1.0</td>\n",
       "      <td>3</td>\n",
       "      <td>73</td>\n",
       "      <td>1</td>\n",
       "      <td>1153.0</td>\n",
       "      <td>126</td>\n",
       "      <td>3</td>\n",
       "      <td>1.7</td>\n",
       "      <td>1.2</td>\n",
       "      <td>...</td>\n",
       "      <td>1</td>\n",
       "      <td>0</td>\n",
       "      <td>1</td>\n",
       "      <td>0</td>\n",
       "      <td>0</td>\n",
       "      <td>0</td>\n",
       "      <td>0</td>\n",
       "      <td>0</td>\n",
       "      <td>0</td>\n",
       "      <td>0</td>\n",
       "    </tr>\n",
       "    <tr>\n",
       "      <th>4</th>\n",
       "      <td>6128</td>\n",
       "      <td>0.0</td>\n",
       "      <td>4</td>\n",
       "      <td>73</td>\n",
       "      <td>1</td>\n",
       "      <td>1117.0</td>\n",
       "      <td>124</td>\n",
       "      <td>2</td>\n",
       "      <td>71.0</td>\n",
       "      <td>11.0</td>\n",
       "      <td>...</td>\n",
       "      <td>1</td>\n",
       "      <td>0</td>\n",
       "      <td>1</td>\n",
       "      <td>0</td>\n",
       "      <td>0</td>\n",
       "      <td>0</td>\n",
       "      <td>0</td>\n",
       "      <td>0</td>\n",
       "      <td>0</td>\n",
       "      <td>0</td>\n",
       "    </tr>\n",
       "    <tr>\n",
       "      <th>5</th>\n",
       "      <td>6128</td>\n",
       "      <td>0.0</td>\n",
       "      <td>3</td>\n",
       "      <td>70</td>\n",
       "      <td>1</td>\n",
       "      <td>1166.0</td>\n",
       "      <td>123</td>\n",
       "      <td>13</td>\n",
       "      <td>99.0</td>\n",
       "      <td>23.0</td>\n",
       "      <td>...</td>\n",
       "      <td>1</td>\n",
       "      <td>0</td>\n",
       "      <td>1</td>\n",
       "      <td>0</td>\n",
       "      <td>0</td>\n",
       "      <td>0</td>\n",
       "      <td>0</td>\n",
       "      <td>0</td>\n",
       "      <td>0</td>\n",
       "      <td>0</td>\n",
       "    </tr>\n",
       "    <tr>\n",
       "      <th>6</th>\n",
       "      <td>6128</td>\n",
       "      <td>0.0</td>\n",
       "      <td>4</td>\n",
       "      <td>70</td>\n",
       "      <td>1</td>\n",
       "      <td>1116.0</td>\n",
       "      <td>123</td>\n",
       "      <td>12</td>\n",
       "      <td>17.0</td>\n",
       "      <td>3.0</td>\n",
       "      <td>...</td>\n",
       "      <td>1</td>\n",
       "      <td>0</td>\n",
       "      <td>1</td>\n",
       "      <td>0</td>\n",
       "      <td>0</td>\n",
       "      <td>0</td>\n",
       "      <td>0</td>\n",
       "      <td>0</td>\n",
       "      <td>0</td>\n",
       "      <td>0</td>\n",
       "    </tr>\n",
       "    <tr>\n",
       "      <th>7</th>\n",
       "      <td>6128</td>\n",
       "      <td>0.0</td>\n",
       "      <td>4</td>\n",
       "      <td>68</td>\n",
       "      <td>1</td>\n",
       "      <td>1068.0</td>\n",
       "      <td>121</td>\n",
       "      <td>10</td>\n",
       "      <td>55.0</td>\n",
       "      <td>9.0</td>\n",
       "      <td>...</td>\n",
       "      <td>1</td>\n",
       "      <td>0</td>\n",
       "      <td>1</td>\n",
       "      <td>0</td>\n",
       "      <td>0</td>\n",
       "      <td>0</td>\n",
       "      <td>0</td>\n",
       "      <td>0</td>\n",
       "      <td>0</td>\n",
       "      <td>0</td>\n",
       "    </tr>\n",
       "    <tr>\n",
       "      <th>8</th>\n",
       "      <td>6128</td>\n",
       "      <td>0.0</td>\n",
       "      <td>4</td>\n",
       "      <td>67</td>\n",
       "      <td>1</td>\n",
       "      <td>1091.0</td>\n",
       "      <td>118</td>\n",
       "      <td>1</td>\n",
       "      <td>7.9</td>\n",
       "      <td>2.0</td>\n",
       "      <td>...</td>\n",
       "      <td>1</td>\n",
       "      <td>0</td>\n",
       "      <td>1</td>\n",
       "      <td>0</td>\n",
       "      <td>0</td>\n",
       "      <td>0</td>\n",
       "      <td>0</td>\n",
       "      <td>0</td>\n",
       "      <td>0</td>\n",
       "      <td>0</td>\n",
       "    </tr>\n",
       "    <tr>\n",
       "      <th>9</th>\n",
       "      <td>6128</td>\n",
       "      <td>0.0</td>\n",
       "      <td>4</td>\n",
       "      <td>65</td>\n",
       "      <td>0</td>\n",
       "      <td>1141.0</td>\n",
       "      <td>116</td>\n",
       "      <td>4</td>\n",
       "      <td>33.0</td>\n",
       "      <td>5.7</td>\n",
       "      <td>...</td>\n",
       "      <td>1</td>\n",
       "      <td>0</td>\n",
       "      <td>1</td>\n",
       "      <td>0</td>\n",
       "      <td>0</td>\n",
       "      <td>0</td>\n",
       "      <td>0</td>\n",
       "      <td>0</td>\n",
       "      <td>0</td>\n",
       "      <td>0</td>\n",
       "    </tr>\n",
       "    <tr>\n",
       "      <th>10</th>\n",
       "      <td>6128</td>\n",
       "      <td>0.0</td>\n",
       "      <td>6</td>\n",
       "      <td>64</td>\n",
       "      <td>1</td>\n",
       "      <td>1066.0</td>\n",
       "      <td>110</td>\n",
       "      <td>6</td>\n",
       "      <td>99.0</td>\n",
       "      <td>14.0</td>\n",
       "      <td>...</td>\n",
       "      <td>1</td>\n",
       "      <td>0</td>\n",
       "      <td>1</td>\n",
       "      <td>0</td>\n",
       "      <td>0</td>\n",
       "      <td>0</td>\n",
       "      <td>0</td>\n",
       "      <td>0</td>\n",
       "      <td>0</td>\n",
       "      <td>0</td>\n",
       "    </tr>\n",
       "    <tr>\n",
       "      <th>11</th>\n",
       "      <td>6128</td>\n",
       "      <td>0.0</td>\n",
       "      <td>3</td>\n",
       "      <td>63</td>\n",
       "      <td>1</td>\n",
       "      <td>1115.0</td>\n",
       "      <td>109</td>\n",
       "      <td>14</td>\n",
       "      <td>8.2</td>\n",
       "      <td>2.0</td>\n",
       "      <td>...</td>\n",
       "      <td>1</td>\n",
       "      <td>0</td>\n",
       "      <td>1</td>\n",
       "      <td>0</td>\n",
       "      <td>0</td>\n",
       "      <td>0</td>\n",
       "      <td>0</td>\n",
       "      <td>0</td>\n",
       "      <td>0</td>\n",
       "      <td>0</td>\n",
       "    </tr>\n",
       "    <tr>\n",
       "      <th>12</th>\n",
       "      <td>6128</td>\n",
       "      <td>0.0</td>\n",
       "      <td>4</td>\n",
       "      <td>63</td>\n",
       "      <td>1</td>\n",
       "      <td>1180.0</td>\n",
       "      <td>117</td>\n",
       "      <td>7</td>\n",
       "      <td>59.0</td>\n",
       "      <td>9.9</td>\n",
       "      <td>...</td>\n",
       "      <td>1</td>\n",
       "      <td>0</td>\n",
       "      <td>1</td>\n",
       "      <td>0</td>\n",
       "      <td>0</td>\n",
       "      <td>0</td>\n",
       "      <td>0</td>\n",
       "      <td>0</td>\n",
       "      <td>0</td>\n",
       "      <td>0</td>\n",
       "    </tr>\n",
       "    <tr>\n",
       "      <th>13</th>\n",
       "      <td>6128</td>\n",
       "      <td>0.0</td>\n",
       "      <td>3</td>\n",
       "      <td>63</td>\n",
       "      <td>1</td>\n",
       "      <td>1151.0</td>\n",
       "      <td>116</td>\n",
       "      <td>9</td>\n",
       "      <td>99.0</td>\n",
       "      <td>26.0</td>\n",
       "      <td>...</td>\n",
       "      <td>1</td>\n",
       "      <td>0</td>\n",
       "      <td>1</td>\n",
       "      <td>0</td>\n",
       "      <td>0</td>\n",
       "      <td>0</td>\n",
       "      <td>0</td>\n",
       "      <td>0</td>\n",
       "      <td>0</td>\n",
       "      <td>0</td>\n",
       "    </tr>\n",
       "  </tbody>\n",
       "</table>\n",
       "<p>14 rows × 50 columns</p>\n",
       "</div>"
      ],
      "text/plain": [
       "    race_id  won  horse_age  horse_rating  horse_gear  declared_weight  \\\n",
       "0      6128  0.0          6            80           1           1078.0   \n",
       "1      6128  0.0          4            77           1           1110.0   \n",
       "2      6128  0.0          4            74           0            980.0   \n",
       "3      6128  1.0          3            73           1           1153.0   \n",
       "4      6128  0.0          4            73           1           1117.0   \n",
       "5      6128  0.0          3            70           1           1166.0   \n",
       "6      6128  0.0          4            70           1           1116.0   \n",
       "7      6128  0.0          4            68           1           1068.0   \n",
       "8      6128  0.0          4            67           1           1091.0   \n",
       "9      6128  0.0          4            65           0           1141.0   \n",
       "10     6128  0.0          6            64           1           1066.0   \n",
       "11     6128  0.0          3            63           1           1115.0   \n",
       "12     6128  0.0          4            63           1           1180.0   \n",
       "13     6128  0.0          3            63           1           1151.0   \n",
       "\n",
       "    actual_weight  draw  win_odds  place_odds  ...  config_C+3  going_GOOD  \\\n",
       "0             133    11      99.0        19.0  ...           1           0   \n",
       "1             130     8      13.0         2.9  ...           1           0   \n",
       "2             127     5       7.9         2.0  ...           1           0   \n",
       "3             126     3       1.7         1.2  ...           1           0   \n",
       "4             124     2      71.0        11.0  ...           1           0   \n",
       "5             123    13      99.0        23.0  ...           1           0   \n",
       "6             123    12      17.0         3.0  ...           1           0   \n",
       "7             121    10      55.0         9.0  ...           1           0   \n",
       "8             118     1       7.9         2.0  ...           1           0   \n",
       "9             116     4      33.0         5.7  ...           1           0   \n",
       "10            110     6      99.0        14.0  ...           1           0   \n",
       "11            109    14       8.2         2.0  ...           1           0   \n",
       "12            117     7      59.0         9.9  ...           1           0   \n",
       "13            116     9      99.0        26.0  ...           1           0   \n",
       "\n",
       "    going_GOOD TO FIRM  going_GOOD TO YIELDING  going_SLOW  going_SOFT  \\\n",
       "0                    1                       0           0           0   \n",
       "1                    1                       0           0           0   \n",
       "2                    1                       0           0           0   \n",
       "3                    1                       0           0           0   \n",
       "4                    1                       0           0           0   \n",
       "5                    1                       0           0           0   \n",
       "6                    1                       0           0           0   \n",
       "7                    1                       0           0           0   \n",
       "8                    1                       0           0           0   \n",
       "9                    1                       0           0           0   \n",
       "10                   1                       0           0           0   \n",
       "11                   1                       0           0           0   \n",
       "12                   1                       0           0           0   \n",
       "13                   1                       0           0           0   \n",
       "\n",
       "    going_WET FAST  going_WET SLOW  going_YIELDING  going_YIELDING TO SOFT  \n",
       "0                0               0               0                       0  \n",
       "1                0               0               0                       0  \n",
       "2                0               0               0                       0  \n",
       "3                0               0               0                       0  \n",
       "4                0               0               0                       0  \n",
       "5                0               0               0                       0  \n",
       "6                0               0               0                       0  \n",
       "7                0               0               0                       0  \n",
       "8                0               0               0                       0  \n",
       "9                0               0               0                       0  \n",
       "10               0               0               0                       0  \n",
       "11               0               0               0                       0  \n",
       "12               0               0               0                       0  \n",
       "13               0               0               0                       0  \n",
       "\n",
       "[14 rows x 50 columns]"
      ]
     },
     "execution_count": 2,
     "metadata": {},
     "output_type": "execute_result"
    }
   ],
   "source": [
    "# data that never been seen by the models\n",
    "last_race = pd.read_csv('last_race.csv')\n",
    "last_race"
   ]
  },
  {
   "cell_type": "code",
   "execution_count": 3,
   "metadata": {
    "slideshow": {
     "slide_type": "fragment"
    }
   },
   "outputs": [],
   "source": [
    "# drop unnecessary columns & define data and labels\n",
    "X_deploy = last_race.drop(columns=['race_id', 'won'])\n",
    "y_deploy = last_race.won"
   ]
  },
  {
   "cell_type": "markdown",
   "metadata": {
    "slideshow": {
     "slide_type": "subslide"
    }
   },
   "source": [
    "## Load kNN model trained with original data"
   ]
  },
  {
   "cell_type": "code",
   "execution_count": 4,
   "metadata": {
    "slideshow": {
     "slide_type": "fragment"
    }
   },
   "outputs": [],
   "source": [
    "knn = joblib.load('knn_original_data.pkl')"
   ]
  },
  {
   "cell_type": "code",
   "execution_count": 5,
   "metadata": {
    "slideshow": {
     "slide_type": "fragment"
    }
   },
   "outputs": [
    {
     "name": "stdout",
     "output_type": "stream",
     "text": [
      "              precision    recall  f1-score   support\n",
      "\n",
      "         0.0       0.93      1.00      0.96        13\n",
      "         1.0       0.00      0.00      0.00         1\n",
      "\n",
      "    accuracy                           0.93        14\n",
      "   macro avg       0.46      0.50      0.48        14\n",
      "weighted avg       0.86      0.93      0.89        14\n",
      "\n"
     ]
    },
    {
     "name": "stderr",
     "output_type": "stream",
     "text": [
      "/anaconda3/lib/python3.7/site-packages/sklearn/metrics/classification.py:1437: UndefinedMetricWarning: Precision and F-score are ill-defined and being set to 0.0 in labels with no predicted samples.\n",
      "  'precision', 'predicted', average, warn_for)\n"
     ]
    }
   ],
   "source": [
    "predictions = knn.predict(X_deploy)\n",
    "print(classification_report(y_deploy, predictions))"
   ]
  },
  {
   "cell_type": "markdown",
   "metadata": {
    "slideshow": {
     "slide_type": "fragment"
    }
   },
   "source": [
    "Only class 0 (lose) can be predicted. "
   ]
  },
  {
   "cell_type": "markdown",
   "metadata": {
    "slideshow": {
     "slide_type": "subslide"
    }
   },
   "source": [
    "## Load kNN model trained with under-sampled data"
   ]
  },
  {
   "cell_type": "code",
   "execution_count": 6,
   "metadata": {
    "slideshow": {
     "slide_type": "fragment"
    }
   },
   "outputs": [],
   "source": [
    "knn = joblib.load('knn_rus.pkl')"
   ]
  },
  {
   "cell_type": "code",
   "execution_count": 7,
   "metadata": {
    "slideshow": {
     "slide_type": "fragment"
    }
   },
   "outputs": [
    {
     "name": "stdout",
     "output_type": "stream",
     "text": [
      "              precision    recall  f1-score   support\n",
      "\n",
      "         0.0       1.00      0.92      0.96        13\n",
      "         1.0       0.50      1.00      0.67         1\n",
      "\n",
      "    accuracy                           0.93        14\n",
      "   macro avg       0.75      0.96      0.81        14\n",
      "weighted avg       0.96      0.93      0.94        14\n",
      "\n"
     ]
    }
   ],
   "source": [
    "predictions = knn.predict(X_deploy)\n",
    "print(classification_report(y_deploy, predictions))"
   ]
  },
  {
   "cell_type": "markdown",
   "metadata": {
    "slideshow": {
     "slide_type": "fragment"
    }
   },
   "source": [
    "kNN model trained with under-sampled data can predict the winning horse. However, there is also one False Positive in the prediction. "
   ]
  },
  {
   "cell_type": "code",
   "execution_count": 12,
   "metadata": {
    "slideshow": {
     "slide_type": "subslide"
    }
   },
   "outputs": [
    {
     "data": {
      "text/plain": [
       "Text(0, 0.5, 'Actual')"
      ]
     },
     "execution_count": 12,
     "metadata": {},
     "output_type": "execute_result"
    },
    {
     "data": {
      "image/png": "[encoded data removed]",
      "text/plain": [
       "<Figure size 432x288 with 2 Axes>"
      ]
     },
     "metadata": {
      "needs_background": "light"
     },
     "output_type": "display_data"
    }
   ],
   "source": [
    "data = confusion_matrix(y_deploy, predictions)\n",
    "\n",
    "fig, ax = plt.subplots()\n",
    "cax = ax.matshow(data, cmap='RdBu')\n",
    "\n",
    "for (i, j), z in np.ndenumerate(data):\n",
    "    ax.text(j, i, '{}'.format(z), ha='center', va='center',\n",
    "            bbox=dict(boxstyle='round', facecolor='white', edgecolor='0.3'))\n",
    "    \n",
    "plt.title('Confusion matrix of kNN_rus', y=1.1)\n",
    "fig.colorbar(cax)\n",
    "labels = ['lose', 'win']\n",
    "ax.set_xticklabels([''] + labels)\n",
    "ax.set_yticklabels([''] + labels)\n",
    "plt.xlabel('Prediction')\n",
    "plt.ylabel('Actual')"
   ]
  },
  {
   "cell_type": "markdown",
   "metadata": {
    "slideshow": {
     "slide_type": "subslide"
    }
   },
   "source": [
    "## Load kNN model trained with over-sampled data"
   ]
  },
  {
   "cell_type": "code",
   "execution_count": 17,
   "metadata": {
    "slideshow": {
     "slide_type": "fragment"
    }
   },
   "outputs": [],
   "source": [
    "knn = joblib.load('knn_sm.pkl')"
   ]
  },
  {
   "cell_type": "code",
   "execution_count": 18,
   "metadata": {
    "slideshow": {
     "slide_type": "fragment"
    }
   },
   "outputs": [
    {
     "name": "stdout",
     "output_type": "stream",
     "text": [
      "              precision    recall  f1-score   support\n",
      "\n",
      "         0.0       0.92      0.92      0.92        13\n",
      "         1.0       0.00      0.00      0.00         1\n",
      "\n",
      "    accuracy                           0.86        14\n",
      "   macro avg       0.46      0.46      0.46        14\n",
      "weighted avg       0.86      0.86      0.86        14\n",
      "\n"
     ]
    }
   ],
   "source": [
    "predictions = knn.predict(X_deploy)\n",
    "print(classification_report(y_deploy, predictions))"
   ]
  },
  {
   "cell_type": "markdown",
   "metadata": {
    "slideshow": {
     "slide_type": "fragment"
    }
   },
   "source": [
    "Only class 0 (lose) can be predicted."
   ]
  },
  {
   "cell_type": "markdown",
   "metadata": {
    "slideshow": {
     "slide_type": "subslide"
    }
   },
   "source": [
    "## Load LightGBM models"
   ]
  },
  {
   "cell_type": "code",
   "execution_count": 13,
   "metadata": {
    "slideshow": {
     "slide_type": "fragment"
    }
   },
   "outputs": [
    {
     "name": "stderr",
     "output_type": "stream",
     "text": [
      "/anaconda3/lib/python3.7/site-packages/lightgbm/__init__.py:46: UserWarning: Starting from version 2.2.1, the library file in distribution wheels for macOS is built by the Apple Clang (Xcode_8.3.3) compiler.\n",
      "This means that in case of installing LightGBM from PyPI via the ``pip install lightgbm`` command, you don't need to install the gcc compiler anymore.\n",
      "Instead of that, you need to install the OpenMP library, which is required for running LightGBM on the system with the Apple Clang compiler.\n",
      "You can install the OpenMP library by the following command: ``brew install libomp``.\n",
      "  \"You can install the OpenMP library by the following command: ``brew install libomp``.\", UserWarning)\n"
     ]
    }
   ],
   "source": [
    "# LightGBM model trained with original data\n",
    "lgb = joblib.load('lgb_original_data.pkl')"
   ]
  },
  {
   "cell_type": "code",
   "execution_count": 28,
   "metadata": {
    "slideshow": {
     "slide_type": "fragment"
    }
   },
   "outputs": [],
   "source": [
    "# LightGBM model trained with under-sampled data\n",
    "lgb_rus = joblib.load('lgb_rus.pkl')"
   ]
  },
  {
   "cell_type": "code",
   "execution_count": 32,
   "metadata": {
    "slideshow": {
     "slide_type": "fragment"
    }
   },
   "outputs": [],
   "source": [
    "# LightGBM model trained with over-sampled data\n",
    "lgb_sm = joblib.load('lgb_sm.pkl')"
   ]
  },
  {
   "cell_type": "markdown",
   "metadata": {
    "slideshow": {
     "slide_type": "subslide"
    }
   },
   "source": [
    "## Set threshold values same as the training models"
   ]
  },
  {
   "cell_type": "code",
   "execution_count": 57,
   "metadata": {
    "slideshow": {
     "slide_type": "fragment"
    }
   },
   "outputs": [],
   "source": [
    "predictions = lgb.predict(X_deploy)\n",
    "#convert into binary values\n",
    "for i in range(14):\n",
    "    if predictions[i] >= 0.0995:       # setting threshold \n",
    "        predictions[i] = 1\n",
    "    else:  \n",
    "        predictions[i] = 0"
   ]
  },
  {
   "cell_type": "code",
   "execution_count": 29,
   "metadata": {
    "slideshow": {
     "slide_type": "fragment"
    }
   },
   "outputs": [],
   "source": [
    "predictions_rus = lgb_rus.predict(X_deploy)\n",
    "#convert into binary values\n",
    "for i in range(14):\n",
    "    if predictions_rus[i] >= 0.55:       # setting threshold \n",
    "        predictions_rus[i] = 1\n",
    "    else:  \n",
    "        predictions_rus[i] = 0"
   ]
  },
  {
   "cell_type": "code",
   "execution_count": 33,
   "metadata": {
    "slideshow": {
     "slide_type": "fragment"
    }
   },
   "outputs": [],
   "source": [
    "predictions_sm = lgb_sm.predict(X_deploy)\n",
    "#convert into binary values\n",
    "for i in range(14):\n",
    "    if predictions_sm[i] >= 0.5:       # setting threshold \n",
    "        predictions_sm[i] = 1\n",
    "    else:  \n",
    "        predictions_sm[i] = 0"
   ]
  },
  {
   "cell_type": "markdown",
   "metadata": {
    "slideshow": {
     "slide_type": "subslide"
    }
   },
   "source": [
    "## Predictions of the LightGBM models"
   ]
  },
  {
   "cell_type": "code",
   "execution_count": 30,
   "metadata": {
    "slideshow": {
     "slide_type": "fragment"
    }
   },
   "outputs": [
    {
     "name": "stdout",
     "output_type": "stream",
     "text": [
      "              precision    recall  f1-score   support\n",
      "\n",
      "         0.0       1.00      1.00      1.00        13\n",
      "         1.0       1.00      1.00      1.00         1\n",
      "\n",
      "    accuracy                           1.00        14\n",
      "   macro avg       1.00      1.00      1.00        14\n",
      "weighted avg       1.00      1.00      1.00        14\n",
      "\n"
     ]
    }
   ],
   "source": [
    "print(classification_report(y_deploy, predictions))"
   ]
  },
  {
   "cell_type": "code",
   "execution_count": 34,
   "metadata": {
    "slideshow": {
     "slide_type": "fragment"
    }
   },
   "outputs": [
    {
     "name": "stdout",
     "output_type": "stream",
     "text": [
      "              precision    recall  f1-score   support\n",
      "\n",
      "         0.0       1.00      1.00      1.00        13\n",
      "         1.0       1.00      1.00      1.00         1\n",
      "\n",
      "    accuracy                           1.00        14\n",
      "   macro avg       1.00      1.00      1.00        14\n",
      "weighted avg       1.00      1.00      1.00        14\n",
      "\n"
     ]
    }
   ],
   "source": [
    "print(classification_report(y_deploy, predictions_rus))"
   ]
  },
  {
   "cell_type": "code",
   "execution_count": 58,
   "metadata": {
    "slideshow": {
     "slide_type": "subslide"
    }
   },
   "outputs": [
    {
     "name": "stdout",
     "output_type": "stream",
     "text": [
      "              precision    recall  f1-score   support\n",
      "\n",
      "         0.0       1.00      1.00      1.00        13\n",
      "         1.0       1.00      1.00      1.00         1\n",
      "\n",
      "    accuracy                           1.00        14\n",
      "   macro avg       1.00      1.00      1.00        14\n",
      "weighted avg       1.00      1.00      1.00        14\n",
      "\n"
     ]
    }
   ],
   "source": [
    "print(classification_report(y_deploy, predictions_sm))"
   ]
  },
  {
   "cell_type": "markdown",
   "metadata": {
    "slideshow": {
     "slide_type": "fragment"
    }
   },
   "source": [
    "All LightGBM models can achieve 100% accuracy rate. "
   ]
  },
  {
   "cell_type": "code",
   "execution_count": 63,
   "metadata": {
    "slideshow": {
     "slide_type": "subslide"
    }
   },
   "outputs": [
    {
     "data": {
      "text/plain": [
       "Text(0, 0.5, 'Actual')"
      ]
     },
     "execution_count": 63,
     "metadata": {},
     "output_type": "execute_result"
    },
    {
     "data": {
      "image/png": "[encoded data removed]",
      "text/plain": [
       "<Figure size 432x288 with 2 Axes>"
      ]
     },
     "metadata": {
      "needs_background": "light"
     },
     "output_type": "display_data"
    }
   ],
   "source": [
    "data = confusion_matrix(y_deploy, predictions)\n",
    "\n",
    "fig, ax = plt.subplots()\n",
    "cax = ax.matshow(data, cmap='RdBu')\n",
    "\n",
    "for (i, j), z in np.ndenumerate(data):\n",
    "    ax.text(j, i, '{}'.format(z), ha='center', va='center',\n",
    "            bbox=dict(boxstyle='round', facecolor='white', edgecolor='0.3'))\n",
    "    \n",
    "plt.title('Confusion matrix of LightGBM models', y=1.1)\n",
    "fig.colorbar(cax)\n",
    "labels = ['lose', 'win']\n",
    "ax.set_xticklabels([''] + labels)\n",
    "ax.set_yticklabels([''] + labels)\n",
    "plt.xlabel('Prediction')\n",
    "plt.ylabel('Actual')"
   ]
  },
  {
   "cell_type": "markdown",
   "metadata": {
    "slideshow": {
     "slide_type": "subslide"
    }
   },
   "source": [
    "## Conclusions:\n",
    "For KNeighborsClassifier, only model trained with under-sampled data can predict both class 0 and class 1 (with one False Positive error). The original data model and over-sampling model can only predict class 0.  <br/>\n",
    "LightGBM models can predict all data correctly, even using the model trained with skewed dataset (by tuning the threshold value). "
   ]
  },
  {
   "cell_type": "markdown",
   "metadata": {
    "slideshow": {
     "slide_type": "skip"
    }
   },
   "source": [
    "Confusion matrix plot code reference from [Stack Overflow](https://stackoverflow.com/questions/20998083/show-the-values-in-the-grid-using-matplotlib) user Joe Kington. Thank you for sharing your experience! =]"
   ]
  }
 ],
 "metadata": {
  "celltoolbar": "Slideshow",
  "kernelspec": {
   "display_name": "Python 3",
   "language": "python",
   "name": "python3"
  },
  "language_info": {
   "codemirror_mode": {
    "name": "ipython",
    "version": 3
   },
   "file_extension": ".py",
   "mimetype": "text/x-python",
   "name": "python",
   "nbconvert_exporter": "python",
   "pygments_lexer": "ipython3",
   "version": "3.7.1"
  }
 },
 "nbformat": 4,
 "nbformat_minor": 2
}
